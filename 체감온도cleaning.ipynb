{
 "cells": [
  {
   "cell_type": "code",
   "execution_count": 2,
   "id": "bf3735a7-165f-49bd-a0c9-759096763bea",
   "metadata": {},
   "outputs": [],
   "source": [
    "import pandas as pd"
   ]
  },
  {
   "cell_type": "code",
   "execution_count": 32,
   "id": "cd0f7731-1ab0-4814-8f09-3a2652dcc07d",
   "metadata": {},
   "outputs": [],
   "source": [
    "df = pd.read_csv('C:/datafile/노인체감온도_202006.csv', encoding = 'cp949')"
   ]
  },
  {
   "cell_type": "code",
   "execution_count": 37,
   "id": "981bbc01-b6e3-4058-8a4b-1b18fd334247",
   "metadata": {},
   "outputs": [
    {
     "data": {
      "text/plain": [
       "16.0"
      ]
     },
     "execution_count": 37,
     "metadata": {},
     "output_type": "execute_result"
    }
   ],
   "source": []
  },
  {
   "cell_type": "code",
   "execution_count": 34,
   "id": "484d9ed5-3425-4551-8be5-3effa84a7388",
   "metadata": {},
   "outputs": [
    {
     "data": {
      "text/plain": [
       "417"
      ]
     },
     "execution_count": 34,
     "metadata": {},
     "output_type": "execute_result"
    }
   ],
   "source": [
    "df['지점'].nunique()"
   ]
  },
  {
   "cell_type": "code",
   "execution_count": 19,
   "id": "513a990b-f835-49c1-85ec-b72611889780",
   "metadata": {},
   "outputs": [],
   "source": [
    "df2 = df.groupby('지점').mean('낮시간대').iloc[:,9:].reset_index()"
   ]
  },
  {
   "cell_type": "code",
   "execution_count": 20,
   "id": "efa960c3-8043-42e4-bcf8-2accbecb10a8",
   "metadata": {},
   "outputs": [
    {
     "data": {
      "text/html": [
       "<div>\n",
       "<style scoped>\n",
       "    .dataframe tbody tr th:only-of-type {\n",
       "        vertical-align: middle;\n",
       "    }\n",
       "\n",
       "    .dataframe tbody tr th {\n",
       "        vertical-align: top;\n",
       "    }\n",
       "\n",
       "    .dataframe thead th {\n",
       "        text-align: right;\n",
       "    }\n",
       "</style>\n",
       "<table border=\"1\" class=\"dataframe\">\n",
       "  <thead>\n",
       "    <tr style=\"text-align: right;\">\n",
       "      <th></th>\n",
       "      <th>지점</th>\n",
       "      <th>낮시간대</th>\n",
       "    </tr>\n",
       "  </thead>\n",
       "  <tbody>\n",
       "    <tr>\n",
       "      <th>0</th>\n",
       "      <td>가락1동</td>\n",
       "      <td>27.708333</td>\n",
       "    </tr>\n",
       "    <tr>\n",
       "      <th>1</th>\n",
       "      <td>가락2동</td>\n",
       "      <td>27.708333</td>\n",
       "    </tr>\n",
       "    <tr>\n",
       "      <th>2</th>\n",
       "      <td>가락본동</td>\n",
       "      <td>27.708333</td>\n",
       "    </tr>\n",
       "    <tr>\n",
       "      <th>3</th>\n",
       "      <td>가리봉동</td>\n",
       "      <td>27.354167</td>\n",
       "    </tr>\n",
       "    <tr>\n",
       "      <th>4</th>\n",
       "      <td>가산동</td>\n",
       "      <td>27.354167</td>\n",
       "    </tr>\n",
       "    <tr>\n",
       "      <th>...</th>\n",
       "      <td>...</td>\n",
       "      <td>...</td>\n",
       "    </tr>\n",
       "    <tr>\n",
       "      <th>412</th>\n",
       "      <td>효창동</td>\n",
       "      <td>27.687500</td>\n",
       "    </tr>\n",
       "    <tr>\n",
       "      <th>413</th>\n",
       "      <td>후암동</td>\n",
       "      <td>27.687500</td>\n",
       "    </tr>\n",
       "    <tr>\n",
       "      <th>414</th>\n",
       "      <td>휘경제1동</td>\n",
       "      <td>27.687500</td>\n",
       "    </tr>\n",
       "    <tr>\n",
       "      <th>415</th>\n",
       "      <td>휘경제2동</td>\n",
       "      <td>27.687500</td>\n",
       "    </tr>\n",
       "    <tr>\n",
       "      <th>416</th>\n",
       "      <td>흑석동</td>\n",
       "      <td>27.791667</td>\n",
       "    </tr>\n",
       "  </tbody>\n",
       "</table>\n",
       "<p>417 rows × 2 columns</p>\n",
       "</div>"
      ],
      "text/plain": [
       "        지점       낮시간대\n",
       "0     가락1동  27.708333\n",
       "1     가락2동  27.708333\n",
       "2     가락본동  27.708333\n",
       "3     가리봉동  27.354167\n",
       "4      가산동  27.354167\n",
       "..     ...        ...\n",
       "412    효창동  27.687500\n",
       "413    후암동  27.687500\n",
       "414  휘경제1동  27.687500\n",
       "415  휘경제2동  27.687500\n",
       "416    흑석동  27.791667\n",
       "\n",
       "[417 rows x 2 columns]"
      ]
     },
     "execution_count": 20,
     "metadata": {},
     "output_type": "execute_result"
    }
   ],
   "source": [
    "df2"
   ]
  },
  {
   "cell_type": "code",
   "execution_count": 23,
   "id": "799db0c0-8a53-4372-904d-6e42837c0877",
   "metadata": {},
   "outputs": [],
   "source": [
    "df2.to_csv('C:/datafile/노인_6월낮_동별평균기온.csv', encoding = 'utf-8-sig')"
   ]
  },
  {
   "cell_type": "code",
   "execution_count": 25,
   "id": "d57197d1-a2df-4561-b05a-9280fcf499ec",
   "metadata": {},
   "outputs": [],
   "source": [
    "df = pd.read_csv('C:/datafile/체감온도_노인_202009_월평균.csv', encoding = 'uf')"
   ]
  },
  {
   "cell_type": "code",
   "execution_count": 28,
   "id": "709946e2-8ee0-493b-8395-69b40523a64d",
   "metadata": {},
   "outputs": [
    {
     "data": {
      "text/html": [
       "<div>\n",
       "<style scoped>\n",
       "    .dataframe tbody tr th:only-of-type {\n",
       "        vertical-align: middle;\n",
       "    }\n",
       "\n",
       "    .dataframe tbody tr th {\n",
       "        vertical-align: top;\n",
       "    }\n",
       "\n",
       "    .dataframe thead th {\n",
       "        text-align: right;\n",
       "    }\n",
       "</style>\n",
       "<table border=\"1\" class=\"dataframe\">\n",
       "  <thead>\n",
       "    <tr style=\"text-align: right;\">\n",
       "      <th></th>\n",
       "      <th>지점</th>\n",
       "      <th>지수종류</th>\n",
       "      <th>예보시간</th>\n",
       "      <th>+06시간</th>\n",
       "      <th>+09시간</th>\n",
       "      <th>+12시간</th>\n",
       "      <th>낮시간대</th>\n",
       "    </tr>\n",
       "  </thead>\n",
       "  <tbody>\n",
       "    <tr>\n",
       "      <th>0</th>\n",
       "      <td>청운효자동</td>\n",
       "      <td>체감온도 (노인)</td>\n",
       "      <td>2020090106</td>\n",
       "      <td>31</td>\n",
       "      <td>31</td>\n",
       "      <td>31</td>\n",
       "      <td>31.000000</td>\n",
       "    </tr>\n",
       "    <tr>\n",
       "      <th>1</th>\n",
       "      <td>사직동</td>\n",
       "      <td>체감온도 (노인)</td>\n",
       "      <td>2020090106</td>\n",
       "      <td>31</td>\n",
       "      <td>31</td>\n",
       "      <td>31</td>\n",
       "      <td>31.000000</td>\n",
       "    </tr>\n",
       "    <tr>\n",
       "      <th>2</th>\n",
       "      <td>삼청동</td>\n",
       "      <td>체감온도 (노인)</td>\n",
       "      <td>2020090106</td>\n",
       "      <td>31</td>\n",
       "      <td>31</td>\n",
       "      <td>31</td>\n",
       "      <td>31.000000</td>\n",
       "    </tr>\n",
       "    <tr>\n",
       "      <th>3</th>\n",
       "      <td>부암동</td>\n",
       "      <td>체감온도 (노인)</td>\n",
       "      <td>2020090106</td>\n",
       "      <td>31</td>\n",
       "      <td>31</td>\n",
       "      <td>31</td>\n",
       "      <td>31.000000</td>\n",
       "    </tr>\n",
       "    <tr>\n",
       "      <th>4</th>\n",
       "      <td>평창동</td>\n",
       "      <td>체감온도 (노인)</td>\n",
       "      <td>2020090106</td>\n",
       "      <td>31</td>\n",
       "      <td>31</td>\n",
       "      <td>31</td>\n",
       "      <td>31.000000</td>\n",
       "    </tr>\n",
       "    <tr>\n",
       "      <th>...</th>\n",
       "      <td>...</td>\n",
       "      <td>...</td>\n",
       "      <td>...</td>\n",
       "      <td>...</td>\n",
       "      <td>...</td>\n",
       "      <td>...</td>\n",
       "      <td>...</td>\n",
       "    </tr>\n",
       "    <tr>\n",
       "      <th>6265</th>\n",
       "      <td>성내제2동</td>\n",
       "      <td>체감온도 (노인)</td>\n",
       "      <td>2020091506</td>\n",
       "      <td>26</td>\n",
       "      <td>28</td>\n",
       "      <td>26</td>\n",
       "      <td>26.666667</td>\n",
       "    </tr>\n",
       "    <tr>\n",
       "      <th>6266</th>\n",
       "      <td>성내제3동</td>\n",
       "      <td>체감온도 (노인)</td>\n",
       "      <td>2020091506</td>\n",
       "      <td>26</td>\n",
       "      <td>26</td>\n",
       "      <td>25</td>\n",
       "      <td>25.666667</td>\n",
       "    </tr>\n",
       "    <tr>\n",
       "      <th>6267</th>\n",
       "      <td>길동</td>\n",
       "      <td>체감온도 (노인)</td>\n",
       "      <td>2020091506</td>\n",
       "      <td>26</td>\n",
       "      <td>26</td>\n",
       "      <td>25</td>\n",
       "      <td>25.666667</td>\n",
       "    </tr>\n",
       "    <tr>\n",
       "      <th>6268</th>\n",
       "      <td>둔촌제1동</td>\n",
       "      <td>체감온도 (노인)</td>\n",
       "      <td>2020091506</td>\n",
       "      <td>26</td>\n",
       "      <td>26</td>\n",
       "      <td>25</td>\n",
       "      <td>25.666667</td>\n",
       "    </tr>\n",
       "    <tr>\n",
       "      <th>6269</th>\n",
       "      <td>둔촌제2동</td>\n",
       "      <td>체감온도 (노인)</td>\n",
       "      <td>2020091506</td>\n",
       "      <td>26</td>\n",
       "      <td>26</td>\n",
       "      <td>25</td>\n",
       "      <td>25.666667</td>\n",
       "    </tr>\n",
       "  </tbody>\n",
       "</table>\n",
       "<p>6270 rows × 7 columns</p>\n",
       "</div>"
      ],
      "text/plain": [
       "         지점       지수종류        예보시간  +06시간  +09시간  +12시간       낮시간대\n",
       "0     청운효자동  체감온도 (노인)  2020090106     31     31     31  31.000000\n",
       "1       사직동  체감온도 (노인)  2020090106     31     31     31  31.000000\n",
       "2       삼청동  체감온도 (노인)  2020090106     31     31     31  31.000000\n",
       "3       부암동  체감온도 (노인)  2020090106     31     31     31  31.000000\n",
       "4       평창동  체감온도 (노인)  2020090106     31     31     31  31.000000\n",
       "...     ...        ...         ...    ...    ...    ...        ...\n",
       "6265  성내제2동  체감온도 (노인)  2020091506     26     28     26  26.666667\n",
       "6266  성내제3동  체감온도 (노인)  2020091506     26     26     25  25.666667\n",
       "6267     길동  체감온도 (노인)  2020091506     26     26     25  25.666667\n",
       "6268  둔촌제1동  체감온도 (노인)  2020091506     26     26     25  25.666667\n",
       "6269  둔촌제2동  체감온도 (노인)  2020091506     26     26     25  25.666667\n",
       "\n",
       "[6270 rows x 7 columns]"
      ]
     },
     "execution_count": 28,
     "metadata": {},
     "output_type": "execute_result"
    }
   ],
   "source": [
    "df"
   ]
  },
  {
   "cell_type": "code",
   "execution_count": 29,
   "id": "d6057be0-e9ab-472d-baef-6626e64fc0b0",
   "metadata": {},
   "outputs": [],
   "source": [
    "df2 = df.groupby('지점').mean('낮시간대').iloc[:,4:].reset_index()"
   ]
  },
  {
   "cell_type": "code",
   "execution_count": 31,
   "id": "d5c12d28-4065-4cb1-8d41-d429cf2e67f6",
   "metadata": {},
   "outputs": [],
   "source": [
    "df2.to_csv('C:/datafile/노인_9월낮_동별평균기온.csv', encoding = 'utf-8-sig')"
   ]
  },
  {
   "cell_type": "code",
   "execution_count": 50,
   "id": "7493baa3-066b-47c7-af52-f6a379f8f611",
   "metadata": {},
   "outputs": [],
   "source": [
    "df = pd.read_csv('C:/datafile/어린이체감온도_202006.csv', encoding = 'cp949')"
   ]
  },
  {
   "cell_type": "code",
   "execution_count": 51,
   "id": "57c59e82-571b-4798-a495-65da1169ac2d",
   "metadata": {},
   "outputs": [],
   "source": [
    "df2 = df.groupby('지점').mean().iloc[:,9:].reset_index()"
   ]
  },
  {
   "cell_type": "code",
   "execution_count": 53,
   "id": "08bec033-3f5e-48de-878c-cde2cf25dcd9",
   "metadata": {},
   "outputs": [],
   "source": [
    "df2.to_csv('C:/datafile/어린이_6월낮_동별평균기온.csv', encoding = 'utf-8-sig')"
   ]
  },
  {
   "cell_type": "code",
   "execution_count": 12,
   "id": "be066b06-54e9-4ad2-a020-7abca5d8933d",
   "metadata": {},
   "outputs": [],
   "source": [
    "df = pd.read_csv('C:/datafile/19년6월노인.csv', encoding = 'cp949')\n",
    "\n",
    "df2 = df.groupby('지점').mean().iloc[:,9:]\n",
    "\n",
    "df2.to_csv('C:/datafile/2019_노인_6월낮_동별평균기온.csv', encoding = 'utf-8-sig')"
   ]
  },
  {
   "cell_type": "code",
   "execution_count": null,
   "id": "d3c55d32-e0b5-422d-8416-ced266e6325d",
   "metadata": {},
   "outputs": [],
   "source": []
  },
  {
   "cell_type": "code",
   "execution_count": 12,
   "id": "e6049207-e4cb-4c48-bd68-ccbae8061024",
   "metadata": {},
   "outputs": [],
   "source": [
    "df = pd.read_csv('C:/datafile/18년8월어린이.csv', encoding = 'utf-8')"
   ]
  },
  {
   "cell_type": "code",
   "execution_count": 41,
   "id": "b9a2043f-9e7c-401c-9cce-0ec1579a0c46",
   "metadata": {},
   "outputs": [],
   "source": [
    "#df = df.iloc[:,1:]"
   ]
  },
  {
   "cell_type": "code",
   "execution_count": 13,
   "id": "10d97e90-f7e8-4d12-b2dd-924d3512c5de",
   "metadata": {},
   "outputs": [
    {
     "data": {
      "text/html": [
       "<div>\n",
       "<style scoped>\n",
       "    .dataframe tbody tr th:only-of-type {\n",
       "        vertical-align: middle;\n",
       "    }\n",
       "\n",
       "    .dataframe tbody tr th {\n",
       "        vertical-align: top;\n",
       "    }\n",
       "\n",
       "    .dataframe thead th {\n",
       "        text-align: right;\n",
       "    }\n",
       "</style>\n",
       "<table border=\"1\" class=\"dataframe\">\n",
       "  <thead>\n",
       "    <tr style=\"text-align: right;\">\n",
       "      <th></th>\n",
       "      <th>지점</th>\n",
       "      <th>200808</th>\n",
       "    </tr>\n",
       "  </thead>\n",
       "  <tbody>\n",
       "    <tr>\n",
       "      <th>0</th>\n",
       "      <td>가락1동</td>\n",
       "      <td>28.978495</td>\n",
       "    </tr>\n",
       "    <tr>\n",
       "      <th>1</th>\n",
       "      <td>가락2동</td>\n",
       "      <td>28.978495</td>\n",
       "    </tr>\n",
       "    <tr>\n",
       "      <th>2</th>\n",
       "      <td>가락본동</td>\n",
       "      <td>28.978495</td>\n",
       "    </tr>\n",
       "    <tr>\n",
       "      <th>3</th>\n",
       "      <td>가리봉동</td>\n",
       "      <td>28.860215</td>\n",
       "    </tr>\n",
       "    <tr>\n",
       "      <th>4</th>\n",
       "      <td>가산동</td>\n",
       "      <td>28.860215</td>\n",
       "    </tr>\n",
       "    <tr>\n",
       "      <th>...</th>\n",
       "      <td>...</td>\n",
       "      <td>...</td>\n",
       "    </tr>\n",
       "    <tr>\n",
       "      <th>419</th>\n",
       "      <td>효창동</td>\n",
       "      <td>28.806452</td>\n",
       "    </tr>\n",
       "    <tr>\n",
       "      <th>420</th>\n",
       "      <td>후암동</td>\n",
       "      <td>28.806452</td>\n",
       "    </tr>\n",
       "    <tr>\n",
       "      <th>421</th>\n",
       "      <td>휘경제1동</td>\n",
       "      <td>28.709677</td>\n",
       "    </tr>\n",
       "    <tr>\n",
       "      <th>422</th>\n",
       "      <td>휘경제2동</td>\n",
       "      <td>28.709677</td>\n",
       "    </tr>\n",
       "    <tr>\n",
       "      <th>423</th>\n",
       "      <td>흑석동</td>\n",
       "      <td>28.741935</td>\n",
       "    </tr>\n",
       "  </tbody>\n",
       "</table>\n",
       "<p>424 rows × 2 columns</p>\n",
       "</div>"
      ],
      "text/plain": [
       "        지점     200808\n",
       "0     가락1동  28.978495\n",
       "1     가락2동  28.978495\n",
       "2     가락본동  28.978495\n",
       "3     가리봉동  28.860215\n",
       "4      가산동  28.860215\n",
       "..     ...        ...\n",
       "419    효창동  28.806452\n",
       "420    후암동  28.806452\n",
       "421  휘경제1동  28.709677\n",
       "422  휘경제2동  28.709677\n",
       "423    흑석동  28.741935\n",
       "\n",
       "[424 rows x 2 columns]"
      ]
     },
     "execution_count": 13,
     "metadata": {},
     "output_type": "execute_result"
    }
   ],
   "source": [
    "df"
   ]
  },
  {
   "cell_type": "code",
   "execution_count": 14,
   "id": "5d19235e-cb7e-4c37-b48d-996f34e86100",
   "metadata": {},
   "outputs": [],
   "source": [
    "idx1 = df[df['지점'].str.contains('1')].index\n",
    "idx2 = df[df['지점'].str.contains('2')].index\n",
    "idx3 = df[df['지점'].str.contains('3')].index\n",
    "idx4 = df[df['지점'].str.contains('4')].index\n",
    "idx5 = df[df['지점'].str.contains('5')].index\n",
    "idx6 = df[df['지점'].str.contains('6')].index\n",
    "idx7 = df[df['지점'].str.contains('7')].index\n",
    "idx8 = df[df['지점'].str.contains('8')].index\n",
    "idx9 = df[df['지점'].str.contains('9')].index\n",
    "idx10 = df[df['지점'].str.contains('10')].index"
   ]
  },
  {
   "cell_type": "code",
   "execution_count": 15,
   "id": "004aed15-6afa-417b-9e85-08ba64720bb7",
   "metadata": {},
   "outputs": [],
   "source": [
    "df1 = df.loc[idx1,]\n",
    "df1['지점'] = df.loc[idx1, ]['지점'].replace('(.*)제1동', r'\\1동', regex = True)\n",
    "df1['지점'] = df1['지점'].replace('(.*)1동', r'\\1동', regex = True)\n",
    "\n",
    "\n",
    "df2 = df.loc[idx2,]\n",
    "df2['지점'] = df.loc[idx2, ]['지점'].replace('(.*)제2동', r'\\1동', regex = True)\n",
    "df2['지점'] = df2['지점'].replace('(.*)2동', r'\\1동', regex = True)\n",
    "\n",
    "\n",
    "df3 = df.loc[idx3,]\n",
    "df3['지점'] = df.loc[idx3, ]['지점'].replace('(.*)제3동', r'\\1동', regex = True)\n",
    "df3['지점'] = df3['지점'].replace('(.*)3동', r'\\1동', regex = True)\n",
    "\n",
    "\n",
    "df4 = df.loc[idx4,]\n",
    "df4['지점'] = df.loc[idx4, ]['지점'].replace('(.*)제4동', r'\\1동', regex = True)\n",
    "df4['지점'] = df4['지점'].replace('(.*)4동', r'\\1동', regex = True)\n",
    "\n",
    "\n",
    "df5 = df.loc[idx5,]\n",
    "df5['지점'] = df.loc[idx5, ]['지점'].replace('(.*)제5동', r'\\1동', regex = True)\n",
    "df5['지점'] = df5['지점'].replace('(.*)5동', r'\\1동', regex = True)\n",
    "\n",
    "\n",
    "df6 = df.loc[idx6,]\n",
    "df6['지점'] = df.loc[idx6, ]['지점'].replace('(.*)제6동', r'\\1동', regex = True)\n",
    "df6['지점'] = df6['지점'].replace('(.*)6동', r'\\1동', regex = True)\n",
    "\n",
    "\n",
    "df7 = df.loc[idx7,]\n",
    "df7['지점'] = df.loc[idx7, ]['지점'].replace('(.*)제7동', r'\\1동', regex = True)\n",
    "df7['지점'] = df7['지점'].replace('(.*)7동', r'\\1동', regex = True)\n",
    "\n",
    "\n",
    "df8 = df.loc[idx8,]\n",
    "df8['지점'] = df.loc[idx8, ]['지점'].replace('(.*)제8동', r'\\1동', regex = True)\n",
    "df8['지점'] = df8['지점'].replace('(.*)8동', r'\\1동', regex = True)\n",
    "\n",
    "\n",
    "df9 = df.loc[idx9,]\n",
    "df9['지점'] = df.loc[idx9, ]['지점'].replace('(.*)제9동', r'\\1동', regex = True)\n",
    "df9['지점'] = df9['지점'].replace('(.*)9동', r'\\1동', regex = True)\n",
    "\n",
    "\n",
    "df10 = df.loc[idx10,]\n",
    "df10['지점'] = df.loc[idx10, ]['지점'].replace('(.*)제10동', r'\\1동', regex = True)\n",
    "df10['지점'] = df10['지점'].replace('(.*)10동', r'\\1동', regex = True)\n"
   ]
  },
  {
   "cell_type": "code",
   "execution_count": 16,
   "id": "52306c18-be42-492c-aa5e-770bf64d8970",
   "metadata": {},
   "outputs": [],
   "source": [
    "d = pd.concat([df1,df2,df3,df4,df5,df6,df7,df8,df9,df10])\n",
    "\n",
    "d1 = d.sort_index()\n",
    "\n",
    "d2 = df.loc[list(set(df.index) - set(d.sort_index().index)),:]\n",
    "\n",
    "d3 = pd.concat([d1,d2]).sort_index()\n",
    "\n",
    "d3.to_csv('C:/datafile/18어린이9정리.csv', encoding = 'utf-8-sig')"
   ]
  },
  {
   "cell_type": "code",
   "execution_count": 1,
   "id": "9a036773-643b-48b5-a3c9-66b9c7205647",
   "metadata": {},
   "outputs": [],
   "source": [
    "import pandas as pd"
   ]
  },
  {
   "cell_type": "code",
   "execution_count": 3,
   "id": "e0b43f86-580f-45e5-9b98-af6a404bdf16",
   "metadata": {},
   "outputs": [],
   "source": [
    "df = pd.read_csv('C:/datafile/법정동별_공시지가_2020.csv', encoding = 'cp949')"
   ]
  },
  {
   "cell_type": "code",
   "execution_count": 9,
   "id": "7a8ae4da-d3cc-4601-b4ab-c50d2092b506",
   "metadata": {},
   "outputs": [],
   "source": [
    "df['법정동명'] = df['법정동명'].replace('(.*)[0-9]가',r'\\1', regex = True)"
   ]
  },
  {
   "cell_type": "code",
   "execution_count": 11,
   "id": "6e86e639-2036-4650-9073-7685382b95f6",
   "metadata": {},
   "outputs": [],
   "source": [
    "df.to_csv('C:/datafile/공시지가2020.csv', encoding = 'utf-8-sig')"
   ]
  },
  {
   "cell_type": "code",
   "execution_count": null,
   "id": "a97dc51f-4a33-4799-86ba-7998032c64f0",
   "metadata": {},
   "outputs": [],
   "source": []
  }
 ],
 "metadata": {
  "kernelspec": {
   "display_name": "Python 3 (ipykernel)",
   "language": "python",
   "name": "python3"
  },
  "language_info": {
   "codemirror_mode": {
    "name": "ipython",
    "version": 3
   },
   "file_extension": ".py",
   "mimetype": "text/x-python",
   "name": "python",
   "nbconvert_exporter": "python",
   "pygments_lexer": "ipython3",
   "version": "3.8.6"
  }
 },
 "nbformat": 4,
 "nbformat_minor": 5
}
