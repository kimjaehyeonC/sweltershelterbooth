{
 "cells": [
  {
   "cell_type": "code",
   "execution_count": 1,
   "id": "4eb94c89-8ebb-478e-b06b-cf549c4628be",
   "metadata": {},
   "outputs": [],
   "source": [
    "import pandas as pd\n",
    "from bs4 import BeautifulSoup\n",
    "import requests\n",
    "import time\n",
    "import re"
   ]
  },
  {
   "cell_type": "code",
   "execution_count": 2,
   "id": "e6718193-cc4a-4d41-8888-0922fcf9b317",
   "metadata": {},
   "outputs": [],
   "source": [
    "url = 'http://apis.data.go.kr/1741000/HeatWaveShelter2/getHeatWaveShelterList2'\n",
    "key = 'HX6ZTyO8gcjDl3YXZB1%2BhpBYFY0krNvN58zi04jdVR5zW458EmPx%2FusLCZMveRhulDwq%2F3gRGVemlhiJV6PHbA%3D%3D'"
   ]
  },
  {
   "cell_type": "code",
   "execution_count": 42,
   "id": "2f864b91-f8ca-4b9a-ba15-33baae5b776c",
   "metadata": {},
   "outputs": [
    {
     "name": "stdout",
     "output_type": "stream",
     "text": [
      "?serviceKey=HX6ZTyO8gcjDl3YXZB1%2BhpBYFY0krNvN58zi04jdVR5zW458EmPx%2FusLCZMveRhulDwq%2F3gRGVemlhiJV6PHbA%3D%3D&pageNo=1&numOfRows=1&type=xml&year=2020&areaCd=1111051000&equptype=001\n"
     ]
    }
   ],
   "source": [
    "\"\"\"queryParams = '?'+'serviceKey='+key+'&pageNo='+pageno+'&numOfRows='+nor+'&type='+t+\\\n",
    "'&year='+year+'&areaCd='+ac+'&equptype='+et\n",
    "\n",
    "print(queryParams)\"\"\" # 전체 쿼리 \n"
   ]
  },
  {
   "cell_type": "code",
   "execution_count": 3,
   "id": "2b98d479-d9b4-416c-afd9-acabc02e1fa0",
   "metadata": {},
   "outputs": [],
   "source": [
    "t = 'xml'"
   ]
  },
  {
   "cell_type": "code",
   "execution_count": 16,
   "id": "3cd638ee-7caa-4cff-8fae-7047ba5e1e48",
   "metadata": {},
   "outputs": [],
   "source": [
    "pageno = '5'\n",
    "nor = '1000'\n",
    "t = 'xml'\n",
    "ac = ''"
   ]
  },
  {
   "cell_type": "code",
   "execution_count": 54,
   "id": "8550ef4a-fba5-401e-8109-7a0c1b481145",
   "metadata": {},
   "outputs": [
    {
     "data": {
      "text/plain": [
       "'http://apis.data.go.kr/1741000/HeatWaveShelter2/getHeatWaveShelterList2?serviceKey=HX6ZTyO8gcjDl3YXZB1%2BhpBYFY0krNvN58zi04jdVR5zW458EmPx%2FusLCZMveRhulDwq%2F3gRGVemlhiJV6PHbA%3D%3D&pageNo=299&numOfRows=1000&type=xml&areaCd=1147057000'"
      ]
     },
     "execution_count": 54,
     "metadata": {},
     "output_type": "execute_result"
    }
   ],
   "source": [
    "u"
   ]
  },
  {
   "cell_type": "code",
   "execution_count": 18,
   "id": "7cdeb5fe-c555-4f6c-9bcb-38a9b50e885a",
   "metadata": {
    "tags": []
   },
   "outputs": [],
   "source": [
    "queryParams = '?'+'serviceKey='+key+'&pageNo='+pageno+'&numOfRows='+nor+'&type='+t+'&year='+'2020'\n",
    "u = url + queryParams\n",
    "res = requests.get(u).text.encode('utf-8')\n",
    "b = BeautifulSoup(res)\n"
   ]
  },
  {
   "cell_type": "code",
   "execution_count": 19,
   "id": "0644e731-bef4-4201-9190-bedc7f7e8dd7",
   "metadata": {
    "tags": []
   },
   "outputs": [
    {
     "data": {
      "text/plain": [
       "['',\n",
       " '46860397',\n",
       " '2021',\n",
       " '4686038000',\n",
       " '001',\n",
       " '신덕경로당',\n",
       " '전라남도 함평군 월야면신덕길 6',\n",
       " '2021-02-26 11:01:50.000',\n",
       " '2021-06-16 15:35:23.000',\n",
       " 'Y',\n",
       " '전라남도 함평군 월야면',\n",
       " '20210614',\n",
       " '20210930',\n",
       " '85',\n",
       " '25',\n",
       " '1',\n",
       " '1',\n",
       " 'Y',\n",
       " 'Y',\n",
       " 'N',\n",
       " '',\n",
       " '409-1',\n",
       " '4960092',\n",
       " '061-320-1984',\n",
       " '918866.46519300',\n",
       " '1692117.81080800',\n",
       " '35.22115510',\n",
       " '126.60848830',\n",
       " '']"
      ]
     },
     "execution_count": 19,
     "metadata": {},
     "output_type": "execute_result"
    }
   ],
   "source": [
    "b.findAll('row')[0].text.split('\\n')"
   ]
  },
  {
   "cell_type": "code",
   "execution_count": 95,
   "id": "3a8a292d-a209-4052-a971-5b36545ebeb3",
   "metadata": {},
   "outputs": [
    {
     "data": {
      "text/plain": [
       "True"
      ]
     },
     "execution_count": 95,
     "metadata": {},
     "output_type": "execute_result"
    }
   ],
   "source": [
    "'데이터없음' in str(b.find_all('resultmsg'))"
   ]
  },
  {
   "cell_type": "code",
   "execution_count": 20,
   "id": "d7c1afc0-4aa3-474e-bc94-c43449f21616",
   "metadata": {
    "tags": []
   },
   "outputs": [
    {
     "name": "stdout",
     "output_type": "stream",
     "text": [
      "finish\n"
     ]
    }
   ],
   "source": [
    "pageno = '1'\n",
    "t = 'xml'\n",
    "nor = '1000'\n",
    "l = []\n",
    "while True:\n",
    "    queryParams = '?'+'serviceKey='+key+'&pageNo='+pageno+'&numOfRows='+nor+'&type='+t\n",
    "    u = url + queryParams\n",
    "    res = requests.get(u).text.encode('utf-8')\n",
    "    b = BeautifulSoup(res)\n",
    "    \n",
    "    if '데이터없음' in str(b.find_all('resultmsg')):\n",
    "        break\n",
    "    else:\n",
    "        l.append(b)\n",
    "        p = int(pageno)\n",
    "        p = p+1\n",
    "        pageno = str(p)\n",
    "    \n",
    "print('finish')  "
   ]
  },
  {
   "cell_type": "code",
   "execution_count": 79,
   "id": "4c41014c-1535-41f1-a447-1b2fbcf6dd53",
   "metadata": {},
   "outputs": [
    {
     "name": "stdout",
     "output_type": "stream",
     "text": [
      "finish\n"
     ]
    }
   ],
   "source": [
    "\"\"\"l = []\n",
    "queryParams = '?'+'serviceKey='+key+'&type='+t+'&areaCd='+'1174010700'\n",
    "u = url + queryParams\n",
    "res = requests.get(u).text.encode('utf-8')\n",
    "b = BeautifulSoup(res)\n",
    "l.append(b)\n",
    "print('finish')\"\"\""
   ]
  },
  {
   "cell_type": "code",
   "execution_count": 22,
   "id": "5559a24c-1d5a-49b6-8978-765fdbe5a654",
   "metadata": {
    "tags": []
   },
   "outputs": [],
   "source": [
    "col = ['연도','del0','시설번호', '시설명', '주소', 'del1','del2','사용여부','del3','del4','del5','면적', '이용가능인원수',\n",
    "      '선풍기보유대수', '에어컨보유대수', '야간개방', '휴일개방', '숙박가능여부','del6','del7','del8','del9',\n",
    "       'del10','del11','위도', '경도', 'del12']"
   ]
  },
  {
   "cell_type": "code",
   "execution_count": 21,
   "id": "7777fab4-3608-4a7c-a5d0-1dc22e9282e5",
   "metadata": {},
   "outputs": [
    {
     "data": {
      "text/plain": [
       "316"
      ]
     },
     "execution_count": 21,
     "metadata": {},
     "output_type": "execute_result"
    }
   ],
   "source": [
    "len(l)"
   ]
  },
  {
   "cell_type": "code",
   "execution_count": 23,
   "id": "45907071-beb7-4499-9527-b254ecf78efa",
   "metadata": {},
   "outputs": [],
   "source": [
    "df1 = pd.DataFrame(columns = col)\n",
    "df2 = pd.DataFrame(columns = col)"
   ]
  },
  {
   "cell_type": "code",
   "execution_count": 24,
   "id": "79ae47eb-5890-4449-a124-c96bb0a28a89",
   "metadata": {},
   "outputs": [
    {
     "name": "stdout",
     "output_type": "stream",
     "text": [
      "0번 완료\n",
      "1번 완료\n",
      "2번 완료\n",
      "3번 완료\n",
      "4번 완료\n",
      "5번 완료\n",
      "6번 완료\n",
      "7번 완료\n",
      "8번 완료\n",
      "9번 완료\n",
      "10번 완료\n",
      "11번 완료\n",
      "12번 완료\n",
      "13번 완료\n",
      "14번 완료\n",
      "15번 완료\n",
      "16번 완료\n",
      "17번 완료\n",
      "18번 완료\n",
      "19번 완료\n",
      "20번 완료\n",
      "21번 완료\n",
      "22번 완료\n",
      "23번 완료\n",
      "24번 완료\n",
      "25번 완료\n",
      "26번 완료\n",
      "27번 완료\n",
      "28번 완료\n",
      "29번 완료\n",
      "30번 완료\n",
      "31번 완료\n",
      "32번 완료\n",
      "33번 완료\n",
      "34번 완료\n",
      "35번 완료\n",
      "36번 완료\n",
      "37번 완료\n",
      "38번 완료\n",
      "39번 완료\n",
      "40번 완료\n",
      "41번 완료\n",
      "42번 완료\n",
      "43번 완료\n",
      "44번 완료\n",
      "45번 완료\n",
      "46번 완료\n",
      "47번 완료\n",
      "48번 완료\n",
      "49번 완료\n",
      "50번 완료\n",
      "51번 완료\n",
      "52번 완료\n",
      "53번 완료\n",
      "54번 완료\n",
      "55번 완료\n",
      "56번 완료\n",
      "57번 완료\n",
      "58번 완료\n",
      "59번 완료\n",
      "60번 완료\n",
      "61번 완료\n",
      "62번 완료\n",
      "63번 완료\n",
      "64번 완료\n",
      "65번 완료\n",
      "66번 완료\n",
      "67번 완료\n",
      "68번 완료\n",
      "69번 완료\n",
      "70번 완료\n",
      "71번 완료\n",
      "72번 완료\n",
      "73번 완료\n",
      "74번 완료\n",
      "75번 완료\n",
      "76번 완료\n",
      "77번 완료\n",
      "78번 완료\n",
      "79번 완료\n",
      "80번 완료\n",
      "81번 완료\n",
      "82번 완료\n",
      "83번 완료\n",
      "84번 완료\n",
      "85번 완료\n",
      "86번 완료\n",
      "87번 완료\n",
      "88번 완료\n",
      "89번 완료\n",
      "90번 완료\n",
      "91번 완료\n",
      "92번 완료\n",
      "93번 완료\n",
      "94번 완료\n",
      "95번 완료\n",
      "96번 완료\n",
      "97번 완료\n",
      "98번 완료\n",
      "99번 완료\n",
      "100번 완료\n",
      "101번 완료\n",
      "102번 완료\n",
      "103번 완료\n",
      "104번 완료\n",
      "105번 완료\n",
      "106번 완료\n",
      "107번 완료\n",
      "108번 완료\n",
      "109번 완료\n",
      "110번 완료\n",
      "111번 완료\n",
      "112번 완료\n",
      "113번 완료\n",
      "114번 완료\n",
      "115번 완료\n",
      "116번 완료\n",
      "117번 완료\n",
      "118번 완료\n",
      "119번 완료\n",
      "120번 완료\n",
      "121번 완료\n",
      "122번 완료\n",
      "123번 완료\n",
      "124번 완료\n",
      "125번 완료\n",
      "126번 완료\n",
      "127번 완료\n",
      "128번 완료\n",
      "129번 완료\n",
      "130번 완료\n",
      "131번 완료\n",
      "132번 완료\n",
      "133번 완료\n",
      "134번 완료\n",
      "135번 완료\n",
      "136번 완료\n",
      "137번 완료\n",
      "138번 완료\n",
      "139번 완료\n",
      "140번 완료\n",
      "141번 완료\n",
      "142번 완료\n",
      "143번 완료\n",
      "144번 완료\n",
      "145번 완료\n",
      "146번 완료\n",
      "147번 완료\n",
      "148번 완료\n",
      "149번 완료\n",
      "150번 완료\n",
      "151번 완료\n",
      "152번 완료\n",
      "153번 완료\n",
      "154번 완료\n",
      "155번 완료\n",
      "156번 완료\n",
      "157번 완료\n",
      "158번 완료\n",
      "159번 완료\n",
      "160번 완료\n",
      "161번 완료\n",
      "162번 완료\n",
      "163번 완료\n",
      "164번 완료\n",
      "165번 완료\n",
      "166번 완료\n",
      "167번 완료\n",
      "168번 완료\n",
      "169번 완료\n",
      "170번 완료\n",
      "171번 완료\n",
      "172번 완료\n",
      "173번 완료\n",
      "174번 완료\n",
      "175번 완료\n",
      "176번 완료\n",
      "177번 완료\n",
      "178번 완료\n",
      "179번 완료\n",
      "180번 완료\n",
      "181번 완료\n",
      "182번 완료\n",
      "183번 완료\n",
      "184번 완료\n",
      "185번 완료\n",
      "186번 완료\n",
      "187번 완료\n",
      "188번 완료\n",
      "189번 완료\n",
      "190번 완료\n",
      "191번 완료\n",
      "192번 완료\n",
      "193번 완료\n",
      "194번 완료\n",
      "195번 완료\n",
      "196번 완료\n",
      "197번 완료\n",
      "198번 완료\n",
      "199번 완료\n",
      "200번 완료\n",
      "201번 완료\n",
      "202번 완료\n",
      "203번 완료\n",
      "204번 완료\n",
      "205번 완료\n",
      "206번 완료\n",
      "207번 완료\n",
      "208번 완료\n",
      "209번 완료\n",
      "210번 완료\n",
      "211번 완료\n",
      "212번 완료\n",
      "213번 완료\n",
      "214번 완료\n",
      "215번 완료\n",
      "216번 완료\n",
      "217번 완료\n",
      "218번 완료\n",
      "219번 완료\n",
      "220번 완료\n",
      "221번 완료\n",
      "222번 완료\n",
      "223번 완료\n",
      "224번 완료\n",
      "225번 완료\n",
      "226번 완료\n",
      "227번 완료\n",
      "228번 완료\n",
      "229번 완료\n",
      "230번 완료\n",
      "231번 완료\n",
      "232번 완료\n",
      "233번 완료\n",
      "234번 완료\n",
      "235번 완료\n",
      "236번 완료\n",
      "237번 완료\n",
      "238번 완료\n",
      "239번 완료\n",
      "240번 완료\n",
      "241번 완료\n",
      "242번 완료\n",
      "243번 완료\n",
      "244번 완료\n",
      "245번 완료\n",
      "246번 완료\n",
      "247번 완료\n",
      "248번 완료\n",
      "249번 완료\n",
      "250번 완료\n",
      "251번 완료\n",
      "252번 완료\n",
      "253번 완료\n",
      "254번 완료\n",
      "255번 완료\n",
      "256번 완료\n",
      "257번 완료\n",
      "258번 완료\n",
      "259번 완료\n",
      "260번 완료\n",
      "261번 완료\n",
      "262번 완료\n",
      "263번 완료\n",
      "264번 완료\n",
      "265번 완료\n",
      "266번 완료\n",
      "267번 완료\n",
      "268번 완료\n",
      "269번 완료\n",
      "270번 완료\n",
      "271번 완료\n",
      "272번 완료\n",
      "273번 완료\n",
      "274번 완료\n",
      "275번 완료\n",
      "276번 완료\n",
      "277번 완료\n",
      "278번 완료\n",
      "279번 완료\n",
      "280번 완료\n",
      "281번 완료\n",
      "282번 완료\n",
      "283번 완료\n",
      "284번 완료\n",
      "285번 완료\n",
      "286번 완료\n",
      "287번 완료\n",
      "288번 완료\n",
      "289번 완료\n",
      "290번 완료\n",
      "291번 완료\n",
      "292번 완료\n",
      "293번 완료\n",
      "294번 완료\n",
      "295번 완료\n",
      "296번 완료\n",
      "297번 완료\n",
      "298번 완료\n",
      "299번 완료\n",
      "300번 완료\n",
      "301번 완료\n",
      "302번 완료\n",
      "303번 완료\n",
      "304번 완료\n",
      "305번 완료\n",
      "306번 완료\n",
      "307번 완료\n",
      "308번 완료\n",
      "309번 완료\n",
      "310번 완료\n",
      "311번 완료\n",
      "312번 완료\n",
      "313번 완료\n",
      "314번 완료\n",
      "315번 완료\n",
      "finish\n"
     ]
    }
   ],
   "source": [
    "for j in range(0,316):\n",
    "    df1 = pd.DataFrame(columns = col)\n",
    "    for i in range(0, len(l[j].findAll('row'))):\n",
    "        li = l[j].findAll('row')[i].text.split('\\n')[2:]\n",
    "        df1.loc[i] = li\n",
    "        \n",
    "    df2 = pd.concat([df2,df1])\n",
    "    print(f'{j}번 완료')  \n",
    "print('finish')"
   ]
  },
  {
   "cell_type": "code",
   "execution_count": 25,
   "id": "680067b5-9584-4c73-96d0-dcdfbe0fdf37",
   "metadata": {},
   "outputs": [
    {
     "name": "stdout",
     "output_type": "stream",
     "text": [
      "<class 'pandas.core.frame.DataFrame'>\n",
      "Int64Index: 315245 entries, 0 to 244\n",
      "Data columns (total 27 columns):\n",
      " #   Column   Non-Null Count   Dtype \n",
      "---  ------   --------------   ----- \n",
      " 0   연도       315245 non-null  object\n",
      " 1   del0     315245 non-null  object\n",
      " 2   시설번호     315245 non-null  object\n",
      " 3   시설명      315245 non-null  object\n",
      " 4   주소       315245 non-null  object\n",
      " 5   del1     315245 non-null  object\n",
      " 6   del2     315245 non-null  object\n",
      " 7   사용여부     315245 non-null  object\n",
      " 8   del3     315245 non-null  object\n",
      " 9   del4     315245 non-null  object\n",
      " 10  del5     315245 non-null  object\n",
      " 11  면적       315245 non-null  object\n",
      " 12  이용가능인원수  315245 non-null  object\n",
      " 13  선풍기보유대수  315245 non-null  object\n",
      " 14  에어컨보유대수  315245 non-null  object\n",
      " 15  야간개방     315245 non-null  object\n",
      " 16  휴일개방     315245 non-null  object\n",
      " 17  숙박가능여부   315245 non-null  object\n",
      " 18  del6     315245 non-null  object\n",
      " 19  del7     315245 non-null  object\n",
      " 20  del8     315245 non-null  object\n",
      " 21  del9     315245 non-null  object\n",
      " 22  del10    315245 non-null  object\n",
      " 23  del11    315245 non-null  object\n",
      " 24  위도       315245 non-null  object\n",
      " 25  경도       315245 non-null  object\n",
      " 26  del12    315245 non-null  object\n",
      "dtypes: object(27)\n",
      "memory usage: 67.3+ MB\n"
     ]
    }
   ],
   "source": [
    "df2.info()"
   ]
  },
  {
   "cell_type": "code",
   "execution_count": 81,
   "id": "9732a79b-2aea-4925-9657-a942e8972120",
   "metadata": {},
   "outputs": [
    {
     "name": "stdout",
     "output_type": "stream",
     "text": [
      "finish\n"
     ]
    }
   ],
   "source": [
    "\"\"\"for i in range(1,len(l[0].findAll('row'))):\n",
    "    li = l[0].findAll('row')[i].text.split('\\n')[4:]\n",
    "    df.loc[i] = li\n",
    "print('finish')\"\"\""
   ]
  },
  {
   "cell_type": "code",
   "execution_count": 27,
   "id": "640c2f94-fa18-41c7-88ac-f5a67cfc04bc",
   "metadata": {
    "tags": []
   },
   "outputs": [
    {
     "data": {
      "text/html": [
       "<div>\n",
       "<style scoped>\n",
       "    .dataframe tbody tr th:only-of-type {\n",
       "        vertical-align: middle;\n",
       "    }\n",
       "\n",
       "    .dataframe tbody tr th {\n",
       "        vertical-align: top;\n",
       "    }\n",
       "\n",
       "    .dataframe thead th {\n",
       "        text-align: right;\n",
       "    }\n",
       "</style>\n",
       "<table border=\"1\" class=\"dataframe\">\n",
       "  <thead>\n",
       "    <tr style=\"text-align: right;\">\n",
       "      <th></th>\n",
       "      <th>연도</th>\n",
       "      <th>시설번호</th>\n",
       "      <th>시설명</th>\n",
       "      <th>주소</th>\n",
       "      <th>사용여부</th>\n",
       "      <th>면적</th>\n",
       "      <th>이용가능인원수</th>\n",
       "      <th>선풍기보유대수</th>\n",
       "      <th>에어컨보유대수</th>\n",
       "      <th>야간개방</th>\n",
       "      <th>휴일개방</th>\n",
       "      <th>숙박가능여부</th>\n",
       "      <th>위도</th>\n",
       "      <th>경도</th>\n",
       "    </tr>\n",
       "  </thead>\n",
       "  <tbody>\n",
       "    <tr>\n",
       "      <th>0</th>\n",
       "      <td>2021</td>\n",
       "      <td>001</td>\n",
       "      <td>작금여자경로당</td>\n",
       "      <td>전라남도 여수시 돌산읍돌산로 616-4</td>\n",
       "      <td>Y</td>\n",
       "      <td>78</td>\n",
       "      <td>50</td>\n",
       "      <td>1</td>\n",
       "      <td>1</td>\n",
       "      <td>N</td>\n",
       "      <td>Y</td>\n",
       "      <td>N</td>\n",
       "      <td>34.59401600</td>\n",
       "      <td>127.76525000</td>\n",
       "    </tr>\n",
       "    <tr>\n",
       "      <th>1</th>\n",
       "      <td>2021</td>\n",
       "      <td>001</td>\n",
       "      <td>봉양경로당</td>\n",
       "      <td>전라남도 여수시 돌산읍봉양길 72-1</td>\n",
       "      <td>Y</td>\n",
       "      <td>107</td>\n",
       "      <td>46</td>\n",
       "      <td>1</td>\n",
       "      <td>1</td>\n",
       "      <td>N</td>\n",
       "      <td>Y</td>\n",
       "      <td>N</td>\n",
       "      <td>34.64132700</td>\n",
       "      <td>127.74274500</td>\n",
       "    </tr>\n",
       "    <tr>\n",
       "      <th>2</th>\n",
       "      <td>2021</td>\n",
       "      <td>001</td>\n",
       "      <td>계동경로당</td>\n",
       "      <td>전라남도 여수시 돌산읍계동안길 25</td>\n",
       "      <td>Y</td>\n",
       "      <td>171</td>\n",
       "      <td>60</td>\n",
       "      <td>1</td>\n",
       "      <td>1</td>\n",
       "      <td>N</td>\n",
       "      <td>Y</td>\n",
       "      <td>N</td>\n",
       "      <td>34.66337900</td>\n",
       "      <td>127.79044400</td>\n",
       "    </tr>\n",
       "    <tr>\n",
       "      <th>3</th>\n",
       "      <td>2021</td>\n",
       "      <td>001</td>\n",
       "      <td>남외경로당</td>\n",
       "      <td>전라남도 여수시 돌산읍남외길 13-7</td>\n",
       "      <td>Y</td>\n",
       "      <td>86</td>\n",
       "      <td>23</td>\n",
       "      <td>1</td>\n",
       "      <td>1</td>\n",
       "      <td>N</td>\n",
       "      <td>Y</td>\n",
       "      <td>N</td>\n",
       "      <td>34.61508300</td>\n",
       "      <td>127.72186800</td>\n",
       "    </tr>\n",
       "    <tr>\n",
       "      <th>4</th>\n",
       "      <td>2021</td>\n",
       "      <td>001</td>\n",
       "      <td>하동경로당</td>\n",
       "      <td>전라남도 여수시 돌산읍상하동길 187</td>\n",
       "      <td>Y</td>\n",
       "      <td>103</td>\n",
       "      <td>41</td>\n",
       "      <td>1</td>\n",
       "      <td>1</td>\n",
       "      <td>N</td>\n",
       "      <td>Y</td>\n",
       "      <td>N</td>\n",
       "      <td>34.71429300</td>\n",
       "      <td>127.77830700</td>\n",
       "    </tr>\n",
       "  </tbody>\n",
       "</table>\n",
       "</div>"
      ],
      "text/plain": [
       "     연도 시설번호      시설명                     주소 사용여부   면적 이용가능인원수 선풍기보유대수  \\\n",
       "0  2021  001  작금여자경로당  전라남도 여수시 돌산읍돌산로 616-4    Y   78      50       1   \n",
       "1  2021  001    봉양경로당   전라남도 여수시 돌산읍봉양길 72-1    Y  107      46       1   \n",
       "2  2021  001    계동경로당    전라남도 여수시 돌산읍계동안길 25    Y  171      60       1   \n",
       "3  2021  001    남외경로당   전라남도 여수시 돌산읍남외길 13-7    Y   86      23       1   \n",
       "4  2021  001    하동경로당   전라남도 여수시 돌산읍상하동길 187    Y  103      41       1   \n",
       "\n",
       "  에어컨보유대수 야간개방 휴일개방 숙박가능여부           위도            경도  \n",
       "0       1    N    Y      N  34.59401600  127.76525000  \n",
       "1       1    N    Y      N  34.64132700  127.74274500  \n",
       "2       1    N    Y      N  34.66337900  127.79044400  \n",
       "3       1    N    Y      N  34.61508300  127.72186800  \n",
       "4       1    N    Y      N  34.71429300  127.77830700  "
      ]
     },
     "execution_count": 27,
     "metadata": {},
     "output_type": "execute_result"
    }
   ],
   "source": [
    "df2.drop(['del0','del1','del2','del3','del4','del5','del6','del7','del8','del9','del10','del11', 'del12'], axis = 1, inplace = True)\n",
    "df2.head()"
   ]
  },
  {
   "cell_type": "code",
   "execution_count": 28,
   "id": "e6c0b157-4032-4369-9ce1-f2a6cf3af6f1",
   "metadata": {},
   "outputs": [],
   "source": [
    "df2.to_csv('C:/datafile/무더위쉼터정보new.csv', encoding = 'utf-8-sig')"
   ]
  },
  {
   "cell_type": "code",
   "execution_count": 49,
   "id": "2d5ba01e-2605-4bdc-b09b-8536bfeaa774",
   "metadata": {},
   "outputs": [],
   "source": [
    "df2.reset_index(inplace = True, drop = True)"
   ]
  },
  {
   "cell_type": "code",
   "execution_count": 50,
   "id": "95ffcd6b-560d-4e49-be7f-dbb879ced76e",
   "metadata": {},
   "outputs": [
    {
     "data": {
      "text/plain": [
       "'전라남도 여수시 돌산읍돌산로 616-4'"
      ]
     },
     "execution_count": 50,
     "metadata": {},
     "output_type": "execute_result"
    }
   ],
   "source": [
    "df2['주소'][0]"
   ]
  },
  {
   "cell_type": "code",
   "execution_count": 3,
   "id": "aa6ee62f-4333-41dc-a353-05a72015cc1b",
   "metadata": {},
   "outputs": [
    {
     "data": {
      "text/html": [
       "<div>\n",
       "<style scoped>\n",
       "    .dataframe tbody tr th:only-of-type {\n",
       "        vertical-align: middle;\n",
       "    }\n",
       "\n",
       "    .dataframe tbody tr th {\n",
       "        vertical-align: top;\n",
       "    }\n",
       "\n",
       "    .dataframe thead th {\n",
       "        text-align: right;\n",
       "    }\n",
       "</style>\n",
       "<table border=\"1\" class=\"dataframe\">\n",
       "  <thead>\n",
       "    <tr style=\"text-align: right;\">\n",
       "      <th></th>\n",
       "      <th>Unnamed: 0</th>\n",
       "      <th>연도</th>\n",
       "      <th>시설번호</th>\n",
       "      <th>시설명</th>\n",
       "      <th>주소</th>\n",
       "      <th>사용여부</th>\n",
       "      <th>면적</th>\n",
       "      <th>이용가능인원수</th>\n",
       "      <th>선풍기보유대수</th>\n",
       "      <th>에어컨보유대수</th>\n",
       "      <th>야간개방</th>\n",
       "      <th>휴일개방</th>\n",
       "      <th>숙박가능여부</th>\n",
       "      <th>위도</th>\n",
       "      <th>경도</th>\n",
       "    </tr>\n",
       "  </thead>\n",
       "  <tbody>\n",
       "    <tr>\n",
       "      <th>0</th>\n",
       "      <td>0</td>\n",
       "      <td>2021</td>\n",
       "      <td>1</td>\n",
       "      <td>작금여자경로당</td>\n",
       "      <td>전라남도 여수시 돌산읍돌산로 616-4</td>\n",
       "      <td>Y</td>\n",
       "      <td>78</td>\n",
       "      <td>50.0</td>\n",
       "      <td>1.0</td>\n",
       "      <td>1.0</td>\n",
       "      <td>N</td>\n",
       "      <td>Y</td>\n",
       "      <td>N</td>\n",
       "      <td>34.594016</td>\n",
       "      <td>127.765250</td>\n",
       "    </tr>\n",
       "    <tr>\n",
       "      <th>1</th>\n",
       "      <td>1</td>\n",
       "      <td>2021</td>\n",
       "      <td>1</td>\n",
       "      <td>봉양경로당</td>\n",
       "      <td>전라남도 여수시 돌산읍봉양길 72-1</td>\n",
       "      <td>Y</td>\n",
       "      <td>107</td>\n",
       "      <td>46.0</td>\n",
       "      <td>1.0</td>\n",
       "      <td>1.0</td>\n",
       "      <td>N</td>\n",
       "      <td>Y</td>\n",
       "      <td>N</td>\n",
       "      <td>34.641327</td>\n",
       "      <td>127.742745</td>\n",
       "    </tr>\n",
       "    <tr>\n",
       "      <th>2</th>\n",
       "      <td>2</td>\n",
       "      <td>2021</td>\n",
       "      <td>1</td>\n",
       "      <td>계동경로당</td>\n",
       "      <td>전라남도 여수시 돌산읍계동안길 25</td>\n",
       "      <td>Y</td>\n",
       "      <td>171</td>\n",
       "      <td>60.0</td>\n",
       "      <td>1.0</td>\n",
       "      <td>1.0</td>\n",
       "      <td>N</td>\n",
       "      <td>Y</td>\n",
       "      <td>N</td>\n",
       "      <td>34.663379</td>\n",
       "      <td>127.790444</td>\n",
       "    </tr>\n",
       "    <tr>\n",
       "      <th>3</th>\n",
       "      <td>3</td>\n",
       "      <td>2021</td>\n",
       "      <td>1</td>\n",
       "      <td>남외경로당</td>\n",
       "      <td>전라남도 여수시 돌산읍남외길 13-7</td>\n",
       "      <td>Y</td>\n",
       "      <td>86</td>\n",
       "      <td>23.0</td>\n",
       "      <td>1.0</td>\n",
       "      <td>1.0</td>\n",
       "      <td>N</td>\n",
       "      <td>Y</td>\n",
       "      <td>N</td>\n",
       "      <td>34.615083</td>\n",
       "      <td>127.721868</td>\n",
       "    </tr>\n",
       "    <tr>\n",
       "      <th>4</th>\n",
       "      <td>4</td>\n",
       "      <td>2021</td>\n",
       "      <td>1</td>\n",
       "      <td>하동경로당</td>\n",
       "      <td>전라남도 여수시 돌산읍상하동길 187</td>\n",
       "      <td>Y</td>\n",
       "      <td>103</td>\n",
       "      <td>41.0</td>\n",
       "      <td>1.0</td>\n",
       "      <td>1.0</td>\n",
       "      <td>N</td>\n",
       "      <td>Y</td>\n",
       "      <td>N</td>\n",
       "      <td>34.714293</td>\n",
       "      <td>127.778307</td>\n",
       "    </tr>\n",
       "  </tbody>\n",
       "</table>\n",
       "</div>"
      ],
      "text/plain": [
       "   Unnamed: 0    연도  시설번호      시설명                     주소 사용여부   면적  이용가능인원수  \\\n",
       "0           0  2021     1  작금여자경로당  전라남도 여수시 돌산읍돌산로 616-4    Y   78     50.0   \n",
       "1           1  2021     1    봉양경로당   전라남도 여수시 돌산읍봉양길 72-1    Y  107     46.0   \n",
       "2           2  2021     1    계동경로당    전라남도 여수시 돌산읍계동안길 25    Y  171     60.0   \n",
       "3           3  2021     1    남외경로당   전라남도 여수시 돌산읍남외길 13-7    Y   86     23.0   \n",
       "4           4  2021     1    하동경로당   전라남도 여수시 돌산읍상하동길 187    Y  103     41.0   \n",
       "\n",
       "   선풍기보유대수  에어컨보유대수 야간개방 휴일개방 숙박가능여부         위도          경도  \n",
       "0      1.0      1.0    N    Y      N  34.594016  127.765250  \n",
       "1      1.0      1.0    N    Y      N  34.641327  127.742745  \n",
       "2      1.0      1.0    N    Y      N  34.663379  127.790444  \n",
       "3      1.0      1.0    N    Y      N  34.615083  127.721868  \n",
       "4      1.0      1.0    N    Y      N  34.714293  127.778307  "
      ]
     },
     "execution_count": 3,
     "metadata": {},
     "output_type": "execute_result"
    }
   ],
   "source": [
    "import pandas as pd\n",
    "df2 = pd.read_csv('C:/datafile/무더위쉼터정보new.csv', encoding = 'utf-8')\n",
    "df2.head()"
   ]
  },
  {
   "cell_type": "code",
   "execution_count": 5,
   "id": "88d84c9d-1e2d-48fd-ab60-c7ed08312f98",
   "metadata": {},
   "outputs": [
    {
     "name": "stdout",
     "output_type": "stream",
     "text": [
      "<class 'pandas.core.frame.DataFrame'>\n",
      "RangeIndex: 315245 entries, 0 to 315244\n",
      "Data columns (total 15 columns):\n",
      " #   Column      Non-Null Count   Dtype  \n",
      "---  ------      --------------   -----  \n",
      " 0   Unnamed: 0  315245 non-null  int64  \n",
      " 1   연도          315245 non-null  int64  \n",
      " 2   시설번호        315245 non-null  int64  \n",
      " 3   시설명         315244 non-null  object \n",
      " 4   주소          290828 non-null  object \n",
      " 5   사용여부        315245 non-null  object \n",
      " 6   면적          315245 non-null  int64  \n",
      " 7   이용가능인원수     315244 non-null  float64\n",
      " 8   선풍기보유대수     300804 non-null  float64\n",
      " 9   에어컨보유대수     302606 non-null  float64\n",
      " 10  야간개방        269505 non-null  object \n",
      " 11  휴일개방        282884 non-null  object \n",
      " 12  숙박가능여부      122410 non-null  object \n",
      " 13  위도          198569 non-null  float64\n",
      " 14  경도          198570 non-null  float64\n",
      "dtypes: float64(5), int64(4), object(6)\n",
      "memory usage: 36.1+ MB\n"
     ]
    }
   ],
   "source": [
    "df2.info()"
   ]
  },
  {
   "cell_type": "code",
   "execution_count": 4,
   "id": "42a12dfd-c2dd-440d-9b62-2581c8bb3d9c",
   "metadata": {},
   "outputs": [],
   "source": [
    "l = []"
   ]
  },
  {
   "cell_type": "code",
   "execution_count": 57,
   "id": "c68103a6-588f-4455-a720-5042dc10eee4",
   "metadata": {},
   "outputs": [],
   "source": [
    "for i in range(0,len(df2)):\n",
    "    l.append(df2['주소'][i].split(' ')[0])"
   ]
  },
  {
   "cell_type": "code",
   "execution_count": 58,
   "id": "e6f13e4b-f682-432e-917b-50d391ce7c27",
   "metadata": {},
   "outputs": [
    {
     "data": {
      "text/plain": [
       "315245"
      ]
     },
     "execution_count": 58,
     "metadata": {},
     "output_type": "execute_result"
    }
   ],
   "source": [
    "len(l)"
   ]
  },
  {
   "cell_type": "code",
   "execution_count": 59,
   "id": "056bef55-0db5-4dc9-a276-8b4f10121164",
   "metadata": {},
   "outputs": [],
   "source": [
    "df2['도'] = l"
   ]
  },
  {
   "cell_type": "code",
   "execution_count": 60,
   "id": "ab16b2c0-6037-400d-82f5-b1f651852c01",
   "metadata": {},
   "outputs": [
    {
     "data": {
      "text/html": [
       "<div>\n",
       "<style scoped>\n",
       "    .dataframe tbody tr th:only-of-type {\n",
       "        vertical-align: middle;\n",
       "    }\n",
       "\n",
       "    .dataframe tbody tr th {\n",
       "        vertical-align: top;\n",
       "    }\n",
       "\n",
       "    .dataframe thead th {\n",
       "        text-align: right;\n",
       "    }\n",
       "</style>\n",
       "<table border=\"1\" class=\"dataframe\">\n",
       "  <thead>\n",
       "    <tr style=\"text-align: right;\">\n",
       "      <th></th>\n",
       "      <th>연도</th>\n",
       "      <th>시설번호</th>\n",
       "      <th>시설명</th>\n",
       "      <th>주소</th>\n",
       "      <th>사용여부</th>\n",
       "      <th>면적</th>\n",
       "      <th>이용가능인원수</th>\n",
       "      <th>선풍기보유대수</th>\n",
       "      <th>에어컨보유대수</th>\n",
       "      <th>야간개방</th>\n",
       "      <th>휴일개방</th>\n",
       "      <th>숙박가능여부</th>\n",
       "      <th>위도</th>\n",
       "      <th>경도</th>\n",
       "      <th>도</th>\n",
       "    </tr>\n",
       "  </thead>\n",
       "  <tbody>\n",
       "    <tr>\n",
       "      <th>0</th>\n",
       "      <td>2021</td>\n",
       "      <td>001</td>\n",
       "      <td>작금여자경로당</td>\n",
       "      <td>전라남도 여수시 돌산읍돌산로 616-4</td>\n",
       "      <td>Y</td>\n",
       "      <td>78</td>\n",
       "      <td>50</td>\n",
       "      <td>1</td>\n",
       "      <td>1</td>\n",
       "      <td>N</td>\n",
       "      <td>Y</td>\n",
       "      <td>N</td>\n",
       "      <td>34.59401600</td>\n",
       "      <td>127.76525000</td>\n",
       "      <td>전라남도</td>\n",
       "    </tr>\n",
       "  </tbody>\n",
       "</table>\n",
       "</div>"
      ],
      "text/plain": [
       "     연도 시설번호      시설명                     주소 사용여부  면적 이용가능인원수 선풍기보유대수 에어컨보유대수  \\\n",
       "0  2021  001  작금여자경로당  전라남도 여수시 돌산읍돌산로 616-4    Y  78      50       1       1   \n",
       "\n",
       "  야간개방 휴일개방 숙박가능여부           위도            경도     도  \n",
       "0    N    Y      N  34.59401600  127.76525000  전라남도  "
      ]
     },
     "execution_count": 60,
     "metadata": {},
     "output_type": "execute_result"
    }
   ],
   "source": [
    "df2.head(1)"
   ]
  },
  {
   "cell_type": "code",
   "execution_count": 61,
   "id": "de2cb0b9-c4dc-49bb-86c3-e87ebef824a7",
   "metadata": {},
   "outputs": [],
   "source": [
    "df3 = df2[df2['도'] == '서울특별시']"
   ]
  },
  {
   "cell_type": "code",
   "execution_count": 62,
   "id": "048dca27-1969-4863-875e-4d47f2aa0e8c",
   "metadata": {},
   "outputs": [],
   "source": [
    "df3.reset_index(drop = True, inplace = True)"
   ]
  },
  {
   "cell_type": "code",
   "execution_count": 64,
   "id": "68298a2c-ce85-4895-bf6f-1d8b899f1811",
   "metadata": {},
   "outputs": [],
   "source": [
    "df3.to_csv('C:/datafile/서울시무더위쉼터정보new.csv', encoding = 'utf-8-sig')"
   ]
  },
  {
   "cell_type": "code",
   "execution_count": 6,
   "id": "d700df53-3364-44ab-ace2-38976ff0b3cd",
   "metadata": {},
   "outputs": [
    {
     "name": "stdout",
     "output_type": "stream",
     "text": [
      "<class 'pandas.core.frame.DataFrame'>\n",
      "RangeIndex: 21738 entries, 0 to 21737\n",
      "Data columns (total 16 columns):\n",
      " #   Column      Non-Null Count  Dtype  \n",
      "---  ------      --------------  -----  \n",
      " 0   Unnamed: 0  21738 non-null  int64  \n",
      " 1   연도          21738 non-null  int64  \n",
      " 2   시설번호        21738 non-null  int64  \n",
      " 3   시설명         21738 non-null  object \n",
      " 4   주소          21738 non-null  object \n",
      " 5   사용여부        21738 non-null  object \n",
      " 6   면적          21738 non-null  int64  \n",
      " 7   이용가능인원수     21737 non-null  float64\n",
      " 8   선풍기보유대수     21287 non-null  float64\n",
      " 9   에어컨보유대수     21483 non-null  float64\n",
      " 10  야간개방        18210 non-null  object \n",
      " 11  휴일개방        18017 non-null  object \n",
      " 12  숙박가능여부      8992 non-null   object \n",
      " 13  위도          12899 non-null  float64\n",
      " 14  경도          12899 non-null  float64\n",
      " 15  도           21738 non-null  object \n",
      "dtypes: float64(5), int64(4), object(7)\n",
      "memory usage: 2.7+ MB\n"
     ]
    }
   ],
   "source": [
    "df3 = pd.read_csv('C:/datafile/서울시무더위쉼터정보new.csv')\n",
    "df3.info()"
   ]
  },
  {
   "cell_type": "code",
   "execution_count": 7,
   "id": "ed93ee47-e6a6-4166-88f7-941c16de5f14",
   "metadata": {},
   "outputs": [],
   "source": [
    "df4 = df3[df3['시설명'].str.find('경로당') == -1].reset_index(drop = True)"
   ]
  },
  {
   "cell_type": "code",
   "execution_count": 8,
   "id": "ab49fd22-4dfe-4ded-91b7-2348c04a00f6",
   "metadata": {},
   "outputs": [],
   "source": [
    "df4.to_csv('C:/datafile/서울시무더위쉼터정보_경로당제외new.csv', encoding = 'utf-8-sig')"
   ]
  },
  {
   "cell_type": "code",
   "execution_count": null,
   "id": "099cb45d-eac8-453f-8f6c-6f71285b624e",
   "metadata": {},
   "outputs": [],
   "source": []
  }
 ],
 "metadata": {
  "kernelspec": {
   "display_name": "Python 3 (ipykernel)",
   "language": "python",
   "name": "python3"
  },
  "language_info": {
   "codemirror_mode": {
    "name": "ipython",
    "version": 3
   },
   "file_extension": ".py",
   "mimetype": "text/x-python",
   "name": "python",
   "nbconvert_exporter": "python",
   "pygments_lexer": "ipython3",
   "version": "3.8.6"
  }
 },
 "nbformat": 4,
 "nbformat_minor": 5
}
